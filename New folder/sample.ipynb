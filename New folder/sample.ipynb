{
 "cells": [
  {
   "cell_type": "code",
   "execution_count": 1,
   "metadata": {},
   "outputs": [],
   "source": [
    "import cv2\n",
    "import numpy as np\n",
    "\n"
   ]
  },
  {
   "cell_type": "code",
   "execution_count": 7,
   "metadata": {},
   "outputs": [
    {
     "name": "stdout",
     "output_type": "stream",
     "text": [
      "Character 1 shape: (223, 0)\n"
     ]
    },
    {
     "ename": "error",
     "evalue": "OpenCV(4.9.0) D:\\a\\opencv-python\\opencv-python\\opencv\\modules\\highgui\\src\\window.cpp:971: error: (-215:Assertion failed) size.width>0 && size.height>0 in function 'cv::imshow'\n",
     "output_type": "error",
     "traceback": [
      "\u001b[1;31m---------------------------------------------------------------------------\u001b[0m",
      "\u001b[1;31merror\u001b[0m                                     Traceback (most recent call last)",
      "Cell \u001b[1;32mIn[7], line 119\u001b[0m\n\u001b[0;32m    115\u001b[0m           cv2\u001b[38;5;241m.\u001b[39mimshow(\u001b[38;5;124mf\u001b[39m\u001b[38;5;124m\"\u001b[39m\u001b[38;5;124mCharacter \u001b[39m\u001b[38;5;132;01m{\u001b[39;00mi\u001b[38;5;241m+\u001b[39m\u001b[38;5;241m1\u001b[39m\u001b[38;5;132;01m}\u001b[39;00m\u001b[38;5;124m\"\u001b[39m, char)\n\u001b[0;32m    118\u001b[0m \u001b[38;5;28;01mif\u001b[39;00m \u001b[38;5;18m__name__\u001b[39m \u001b[38;5;241m==\u001b[39m \u001b[38;5;124m\"\u001b[39m\u001b[38;5;124m__main__\u001b[39m\u001b[38;5;124m\"\u001b[39m:\n\u001b[1;32m--> 119\u001b[0m   \u001b[43mmain\u001b[49m\u001b[43m(\u001b[49m\u001b[43m)\u001b[49m\n",
      "Cell \u001b[1;32mIn[7], line 115\u001b[0m, in \u001b[0;36mmain\u001b[1;34m()\u001b[0m\n\u001b[0;32m    113\u001b[0m \u001b[38;5;28;01mfor\u001b[39;00m i, char \u001b[38;5;129;01min\u001b[39;00m \u001b[38;5;28menumerate\u001b[39m(segmented_characters):\n\u001b[0;32m    114\u001b[0m     \u001b[38;5;28mprint\u001b[39m(\u001b[38;5;124mf\u001b[39m\u001b[38;5;124m\"\u001b[39m\u001b[38;5;124mCharacter \u001b[39m\u001b[38;5;132;01m{\u001b[39;00mi\u001b[38;5;241m+\u001b[39m\u001b[38;5;241m1\u001b[39m\u001b[38;5;132;01m}\u001b[39;00m\u001b[38;5;124m shape: \u001b[39m\u001b[38;5;132;01m{\u001b[39;00mchar\u001b[38;5;241m.\u001b[39mshape\u001b[38;5;132;01m}\u001b[39;00m\u001b[38;5;124m\"\u001b[39m)\n\u001b[1;32m--> 115\u001b[0m     \u001b[43mcv2\u001b[49m\u001b[38;5;241;43m.\u001b[39;49m\u001b[43mimshow\u001b[49m\u001b[43m(\u001b[49m\u001b[38;5;124;43mf\u001b[39;49m\u001b[38;5;124;43m\"\u001b[39;49m\u001b[38;5;124;43mCharacter \u001b[39;49m\u001b[38;5;132;43;01m{\u001b[39;49;00m\u001b[43mi\u001b[49m\u001b[38;5;241;43m+\u001b[39;49m\u001b[38;5;241;43m1\u001b[39;49m\u001b[38;5;132;43;01m}\u001b[39;49;00m\u001b[38;5;124;43m\"\u001b[39;49m\u001b[43m,\u001b[49m\u001b[43m \u001b[49m\u001b[43mchar\u001b[49m\u001b[43m)\u001b[49m\n",
      "\u001b[1;31merror\u001b[0m: OpenCV(4.9.0) D:\\a\\opencv-python\\opencv-python\\opencv\\modules\\highgui\\src\\window.cpp:971: error: (-215:Assertion failed) size.width>0 && size.height>0 in function 'cv::imshow'\n"
     ]
    }
   ],
   "source": [
    "import cv2\n",
    "\n",
    "def otsu_binarization(image):\n",
    "  \"\"\"\n",
    "  Performs binarization of the input image using Otsu's thresholding method.\n",
    "\n",
    "  Args:\n",
    "      image: The input grayscale image.\n",
    "\n",
    "  Returns:\n",
    "      A binary image with values 1 (for white pixels) and values 0 (for black pixels).\n",
    "  \"\"\"\n",
    "  _, binary_image = cv2.threshold(image, 0, 1, cv2.THRESH_BINARY_INV + cv2.THRESH_OTSU)\n",
    "  return binary_image\n",
    "\n",
    "def thinning(image):\n",
    "  \"\"\"\n",
    "  Performs thinning of the binary image to remove extra data and allow for stroke verification.\n",
    "\n",
    "  Args:\n",
    "      image: The binary image.\n",
    "\n",
    "  Returns:\n",
    "      The thinned image.\n",
    "  \"\"\"\n",
    "  kernel = np.ones((3, 3), np.uint8)\n",
    "  skel = cv2.morphologyEx(image, cv2.MORPH_OPEN, kernel)\n",
    "  return skel\n",
    "\n",
    "def core_zone_detection(image):\n",
    "  \"\"\"\n",
    "  Detects the core zone of the word, which lies between the upper and lower baselines.\n",
    "\n",
    "  Args:\n",
    "      image: The binary image.\n",
    "\n",
    "  Returns:\n",
    "      The top and bottom coordinates of the core zone.\n",
    "  \"\"\"\n",
    "  height, width = image.shape\n",
    "  upper_baseline = 0\n",
    "  lower_baseline = height - 1\n",
    "\n",
    "  # Find upper baseline\n",
    "  for row in range(height):\n",
    "    if np.sum(image[row]) != np.sum(image[row - 1]):\n",
    "      upper_baseline = row\n",
    "      break\n",
    "\n",
    "  # Find lower baseline (from bottom to top)\n",
    "  for row in range(height - 2, -1, -1):\n",
    "    if np.sum(image[row]) != np.sum(image[row + 1]):\n",
    "      lower_baseline = row\n",
    "      break\n",
    "\n",
    "  return upper_baseline, lower_baseline\n",
    "\n",
    "def segmentation(image, threshold):\n",
    "  \"\"\"\n",
    "  Segments the core zone of the image into characters.\n",
    "\n",
    "  Args:\n",
    "      image: The binary image.\n",
    "      threshold: A constant value to avoid over-segmentation.\n",
    "\n",
    "  Returns:\n",
    "      A list of character images.\n",
    "  \"\"\"\n",
    "  candidate_segments = []\n",
    "  height, width = image.shape\n",
    "  for col in range(width):\n",
    "    if np.sum(image[:, col]) == 0 or np.sum(image[:, col]) == 1:\n",
    "      candidate_segments.append(col)\n",
    "\n",
    "  # Apply threshold to avoid over-segmentation\n",
    "  segmented_cols = [col for col in candidate_segments if np.sum(image[:, col]) <= threshold]\n",
    "\n",
    "  character_images = []\n",
    "  start = 0\n",
    "  for col in segmented_cols:\n",
    "    end = col\n",
    "    character_image = image[:, start:end]\n",
    "    character_images.append(character_image)\n",
    "    start = end\n",
    "\n",
    "  return character_images\n",
    "\n",
    "def main():\n",
    "  # Load the image\n",
    "  image = cv2.imread(\"king.jpg\", cv2.IMREAD_GRAYSCALE)\n",
    "\n",
    "  # Check if image loaded successfully\n",
    "  if image is None:\n",
    "      print(\"Error: Could not load image!\")\n",
    "      return\n",
    "\n",
    "  # Preprocessing\n",
    "  binary_image = otsu_binarization(image)\n",
    "  thinned_image = thinning(binary_image)\n",
    "\n",
    "  # Core zone detection\n",
    "  upper_baseline, lower_baseline = core_zone_detection(thinned_image)\n",
    "  core_zone = thinned_image[upper_baseline:lower_baseline+1, :]\n",
    "\n",
    "  # Segmentation\n",
    "  segmented_characters = segmentation(core_zone, threshold=1)  # Adjust threshold as needed\n",
    "\n",
    "  # Check if any characters were segmented\n",
    "  if not segmented_characters:\n",
    "      print(\"No characters found during segmentation!\")\n",
    "  else:\n",
    "      # Display the segmented characters with debugging information\n",
    "      for i, char in enumerate(segmented_characters):\n",
    "          print(f\"Character {i+1} shape: {char.shape}\")\n",
    "          cv2.imshow(f\"Character {i+1}\", char)\n",
    "          cv2.waitKey(0)\n",
    "\n",
    "if __name__ == \"__main__\":\n",
    "  main()\n"
   ]
  },
  {
   "cell_type": "code",
   "execution_count": 4,
   "metadata": {},
   "outputs": [
    {
     "name": "stdout",
     "output_type": "stream",
     "text": [
      "Note: you may need to restart the kernel to use updated packages.\n"
     ]
    },
    {
     "name": "stderr",
     "output_type": "stream",
     "text": [
      "WARNING: Ignoring invalid distribution -ip (c:\\users\\keshavaram\\appdata\\local\\programs\\python\\python310\\lib\\site-packages)\n",
      "ERROR: Could not find a version that satisfies the requirement OpenCV (from versions: none)\n",
      "ERROR: No matching distribution found for OpenCV\n"
     ]
    }
   ],
   "source": [
    "pip install OpenCV"
   ]
  },
  {
   "cell_type": "code",
   "execution_count": null,
   "metadata": {},
   "outputs": [],
   "source": []
  }
 ],
 "metadata": {
  "kernelspec": {
   "display_name": "Python 3",
   "language": "python",
   "name": "python3"
  },
  "language_info": {
   "codemirror_mode": {
    "name": "ipython",
    "version": 3
   },
   "file_extension": ".py",
   "mimetype": "text/x-python",
   "name": "python",
   "nbconvert_exporter": "python",
   "pygments_lexer": "ipython3",
   "version": "3.10.0"
  }
 },
 "nbformat": 4,
 "nbformat_minor": 2
}
