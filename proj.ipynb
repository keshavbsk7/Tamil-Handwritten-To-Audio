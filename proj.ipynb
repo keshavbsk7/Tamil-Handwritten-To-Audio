{
 "cells": [
  {
   "cell_type": "code",
   "execution_count": 9,
   "metadata": {},
   "outputs": [],
   "source": [
    "import cv2\n",
    "import numpy as np\n",
    "import os\n",
    "\n",
    "\n",
    "def extract_words(input_image_path, output_folder):\n",
    "    try:\n",
    "        \n",
    "        img = cv2.imread(input_image_path)\n",
    "        img = cv2.cvtColor(img, cv2.COLOR_BGR2RGB)\n",
    "    except Exception as e:\n",
    "        print(f\"Error loading image: {e}\")\n",
    "        return \n",
    "\n",
    "\n",
    "    h, w, c = img.shape\n",
    "    if w > 1000:\n",
    "        new_w = 1000\n",
    "        ar = w / h\n",
    "        new_h = int(new_w / ar)\n",
    "        img = cv2.resize(img, (new_w, new_h), interpolation=cv2.INTER_AREA)\n",
    "\n",
    "    img_gray = cv2.cvtColor(img, cv2.COLOR_RGB2GRAY)\n",
    "    ret, thresh = cv2.threshold(img_gray, 80, 255, cv2.THRESH_BINARY_INV)\n",
    "    \n",
    "\n",
    "    kernel = np.ones((3, 36), np.uint8)\n",
    "    dilated = cv2.dilate(thresh, kernel, iterations=1)\n",
    "    \n",
    "\n",
    "    contours, _ = cv2.findContours(dilated.copy(), cv2.RETR_EXTERNAL, cv2.CHAIN_APPROX_NONE)\n",
    "    sorted_contours_lines = sorted(contours, key=lambda ctr: cv2.boundingRect(ctr)[0])\n",
    "\n",
    "\n",
    "    os.makedirs(output_folder, exist_ok=True)\n",
    "\n",
    "\n",
    "    for i, ctr in enumerate(sorted_contours_lines):\n",
    "        x, y, w, h = cv2.boundingRect(ctr)\n",
    "        roi = img[y:y+h, x:x+w]\n",
    "        cv2.imwrite(os.path.join(output_folder, f'boxed_word_{i}.png'), roi)\n",
    "\n",
    "\n",
    "def box_characters(input_folder, output_folder):\n",
    "\n",
    "    for folder_index, filename in enumerate(sorted(os.listdir(input_folder)), start=1):\n",
    "        if filename.endswith(\".png\"):\n",
    "            image_path = os.path.join(input_folder, filename)\n",
    "            img = cv2.imread(image_path)\n",
    "            img_gray = cv2.cvtColor(img, cv2.COLOR_BGR2GRAY)\n",
    "\n",
    "            ret, thresh = cv2.threshold(img_gray, 80, 255, cv2.THRESH_BINARY_INV)\n",
    "            \n",
    "\n",
    "            kernel = np.ones((3, 3), np.uint8)\n",
    "            dilated = cv2.dilate(thresh, kernel, iterations=1)\n",
    "\n",
    "            contours, _ = cv2.findContours(dilated.copy(), cv2.RETR_EXTERNAL, cv2.CHAIN_APPROX_SIMPLE)           \n",
    "            contours = sorted(contours, key=lambda ctr: cv2.boundingRect(ctr)[0])\n",
    "            \n",
    "            image_output_folder = os.path.join(output_folder, f'char_images{folder_index}')\n",
    "            os.makedirs(image_output_folder, exist_ok=True)\n",
    "\n",
    "            for i, contour in enumerate(contours):\n",
    "                x, y, w, h = cv2.boundingRect(contour)\n",
    "                char_img = img[y:y+h, x:x+w]\n",
    "                cv2.imwrite(os.path.join(image_output_folder, f'boxed_char_{i}.png'), char_img)\n",
    "\n",
    "input_image_path = 'pic1.png'\n",
    "output_words_folder = 'output_words'\n",
    "extract_words(input_image_path, output_words_folder)\n",
    "\n",
    "output_characters_folder = 'char_images'\n",
    "box_characters(output_words_folder, output_characters_folder)\n"
   ]
  },
  {
   "cell_type": "code",
   "execution_count": 10,
   "metadata": {},
   "outputs": [
    {
     "name": "stdout",
     "output_type": "stream",
     "text": [
      "1/1 [==============================] - 0s 191ms/step\n",
      "2\n",
      "[1, 97]\n",
      "Predicted text: ஆறு\n"
     ]
    }
   ],
   "source": [
    "import cv2\n",
    "import numpy as np\n",
    "import os\n",
    "import tensorflow as tf\n",
    "from sklearn.preprocessing import LabelBinarizer \n",
    "import pandas as pd\n",
    "\n",
    "loaded_model = tf.keras.models.load_model(\"my_model3\")\n",
    "\n",
    "label_binarizer = LabelBinarizer()\n",
    "label_binarizer.fit(range(156))\n",
    "\n",
    "df = pd.read_excel('Book1.xlsx')\n",
    "class_to_character = df.set_index('Class')['Character'].to_dict()\n",
    "predicted_labels=[]\n",
    "def load_and_preprocess_images_from_directory(directory, img_size=(28, 28)):\n",
    "    images = []\n",
    "    for filename in os.listdir(directory):\n",
    "        if filename.endswith(\".png\") or filename.endswith(\".tiff\"):  \n",
    "            image_path = os.path.join(directory, filename)\n",
    "            image = cv2.imread(image_path, cv2.IMREAD_GRAYSCALE)\n",
    "            image = cv2.resize(image, img_size)\n",
    "            image = image.astype(\"float32\") / 255.0\n",
    "            images.append(image)\n",
    "    images = np.array(images)\n",
    "    images = np.expand_dims(images, axis=-1)  \n",
    "    return images\n",
    "\n",
    "def predict_text_from_all_folders(char_images_folder):\n",
    "    predicted_text = \"\"\n",
    "    for subfolder in os.listdir(char_images_folder):\n",
    "        subfolder_path = os.path.join(char_images_folder, subfolder)\n",
    "        if os.path.isdir(subfolder_path):\n",
    "            subfolder_text = predict_text_from_images(subfolder_path)\n",
    "            predicted_text += subfolder_text + \" \" \n",
    "    return predicted_text.strip()  \n",
    "\n",
    "def predict_text_from_images(image_directory):\n",
    "    images = load_and_preprocess_images_from_directory(image_directory)\n",
    "    predictions = loaded_model.predict(images)\n",
    "    predicted_labels = [label_binarizer.classes_[np.argmax(prediction)] for prediction in predictions]\n",
    "    predicted_text = \"\"\n",
    "    text=[]\n",
    "    print(len(predicted_labels))\n",
    "    i=0\n",
    "    while(i<len(predicted_labels)):\n",
    "        if predicted_labels[i]==119 or predicted_labels[i]==118 or predicted_labels[i]==120:\n",
    "            text.append(predicted_labels[i+1])\n",
    "            text.append(predicted_labels[i])\n",
    "            i=i+2\n",
    "        else:\n",
    "            text.append(predicted_labels[i])\n",
    "            i=i+1\n",
    "            \n",
    "    print(text)\n",
    "    for class_index in text:\n",
    "        predicted_text += class_to_character.get(class_index, \"\")\n",
    "    return predicted_text\n",
    "\n",
    "char_images_folder = 'char_images'\n",
    "predicted_text = predict_text_from_all_folders(char_images_folder)\n",
    "print(\"Predicted text:\", predicted_text)\n",
    "\n"
   ]
  },
  {
   "cell_type": "code",
   "execution_count": 4,
   "metadata": {},
   "outputs": [
    {
     "data": {
      "text/plain": [
       "[]"
      ]
     },
     "execution_count": 4,
     "metadata": {},
     "output_type": "execute_result"
    }
   ],
   "source": [
    "predicted_labels"
   ]
  },
  {
   "cell_type": "code",
   "execution_count": 3,
   "metadata": {},
   "outputs": [],
   "source": [
    "from gtts import gTTS"
   ]
  },
  {
   "cell_type": "code",
   "execution_count": 11,
   "metadata": {},
   "outputs": [
    {
     "data": {
      "text/plain": [
       "0"
      ]
     },
     "execution_count": 11,
     "metadata": {},
     "output_type": "execute_result"
    }
   ],
   "source": [
    "language = 'ta'\n",
    "tts = gTTS(text=predicted_text, lang=language, slow=True)\n",
    "\n",
    "tts.save(\"output3.mp3\")\n",
    "\n",
    "os.system(\"start output3.mp3\")"
   ]
  },
  {
   "cell_type": "code",
   "execution_count": null,
   "metadata": {},
   "outputs": [],
   "source": []
  },
  {
   "cell_type": "code",
   "execution_count": null,
   "metadata": {},
   "outputs": [],
   "source": []
  },
  {
   "cell_type": "code",
   "execution_count": null,
   "metadata": {},
   "outputs": [],
   "source": []
  },
  {
   "cell_type": "code",
   "execution_count": null,
   "metadata": {},
   "outputs": [],
   "source": []
  },
  {
   "cell_type": "code",
   "execution_count": null,
   "metadata": {},
   "outputs": [],
   "source": [
    "import cv2\n",
    "import numpy as np\n",
    "import os\n",
    "import tensorflow as tf\n",
    "from sklearn.preprocessing import LabelBinarizer \n",
    "import pandas as pd\n",
    "\n",
    "loaded_model = tf.keras.models.load_model(\"my_model\")\n",
    "\n",
    "\n",
    "label_binarizer = LabelBinarizer()\n",
    "label_binarizer.fit(range(156))\n",
    "\n",
    "\n",
    "df = pd.read_excel('Book1.xlsx')\n",
    "class_to_character = df.set_index('Class')['Character'].to_dict()\n",
    "\n",
    "def load_and_preprocess_images_from_directory(directory, img_size=(28, 28)):\n",
    "    images = []\n",
    "    for filename in os.listdir(directory):\n",
    "        if filename.endswith(\".png\") or filename.endswith(\".tiff\"):  \n",
    "            image_path = os.path.join(directory, filename)\n",
    "            image = cv2.imread(image_path, cv2.IMREAD_GRAYSCALE)\n",
    "            image = cv2.resize(image, img_size)\n",
    "            image = image.astype(\"float32\") / 255.0\n",
    "            images.append(image)\n",
    "    images = np.array(images)\n",
    "    images = np.expand_dims(images, axis=-1)  \n",
    "    return images\n",
    "\n",
    "\n",
    "def predict_text_from_images(image_directory):\n",
    "    images = load_and_preprocess_images_from_directory(image_directory)\n",
    "    predictions = loaded_model.predict(images)\n",
    "    predicted_labels = [label_binarizer.classes_[np.argmax(prediction)] for prediction in predictions]\n",
    "    predicted_text = \"\"\n",
    "    for class_index in predicted_labels:\n",
    "        predicted_text += class_to_character.get(class_index, \"\")\n",
    "    return predicted_text\n",
    "\n",
    "# Example usage:\n",
    "char_images_folder = 'char_images'\n",
    "char_images_subfolder = 'char_images3'\n",
    "char_images1_folder_path = os.path.join(char_images_folder, char_images_subfolder)\n",
    "predicted_text = predict_text_from_images(char_images1_folder_path)\n",
    "print(\"Predicted text:\", predicted_text)\n"
   ]
  }
 ],
 "metadata": {
  "kernelspec": {
   "display_name": "Python 3",
   "language": "python",
   "name": "python3"
  },
  "language_info": {
   "codemirror_mode": {
    "name": "ipython",
    "version": 3
   },
   "file_extension": ".py",
   "mimetype": "text/x-python",
   "name": "python",
   "nbconvert_exporter": "python",
   "pygments_lexer": "ipython3",
   "version": "3.11.3"
  }
 },
 "nbformat": 4,
 "nbformat_minor": 2
}
